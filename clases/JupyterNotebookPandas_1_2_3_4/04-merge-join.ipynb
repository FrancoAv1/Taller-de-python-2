{
 "cells": [
  {
   "attachments": {},
   "cell_type": "markdown",
   "metadata": {},
   "source": [
    "# **Combinar Conjuntos de Datos con Merge y Join**"
   ]
  },
  {
   "attachments": {},
   "cell_type": "markdown",
   "metadata": {},
   "source": [
    "## Tabla de contenidos\n",
    "1. [Álgebra Relacional](#0)\n",
    "2. [Categorías de Uniones](#2)\n",
    "3. [Especificación de la clave de combinación](#4)\n",
    "4. [Especificación de aritmética de conjuntos para las uniones](#6)\n",
    "5. [Nombres de columnas superpuestos: el parámetro `suffixes`](#8)"
   ]
  },
  {
   "attachments": {},
   "cell_type": "markdown",
   "metadata": {},
   "source": [
    "Una característica que ofrece Pandas son sus métodos de unión (Join) y combinación (Merge) en memoria de alto rendimiento.\n",
    "Estos dos operadores son heredados de la manipulación e interacción de datos con motores de bases de datos.\n",
    "El operador principal para esto es la función `pd.merge`, y se verán algunos ejemplos de cómo esto puede funcionar en la práctica.\n",
    "\n",
    "Para mayor comodidad, se va a definir una clase `desplegar()` para mostrar los resultados de una manera visualmente atractiva."
   ]
  },
  {
   "cell_type": "code",
   "execution_count": null,
   "metadata": {
    "collapsed": true
   },
   "outputs": [],
   "source": [
    "import pandas as pd\n",
    "\n",
    "class desplegar(object):\n",
    "    \"\"\" Muestra una representación con HTML de múltiples objetos \"\"\"\n",
    "\n",
    "    plantilla = \"\"\"<div style=\"float: left; padding: 10px;\">\n",
    "                <p style='font-family:\"Courier New\", Courier, monospace'>{0}</p>{1}\n",
    "                </div>\"\"\"\n",
    "\n",
    "    def __init__(self, *args):\n",
    "        self.args = args\n",
    "        \n",
    "    def _repr_html_(self):\n",
    "        return '\\n'.join(self.plantilla.format(a, eval(a)._repr_html_())\n",
    "                        for a in self.args)\n",
    "    \n",
    "    def __repr__(self):\n",
    "        return '\\n\\n'.join(a + '\\n' + repr(eval(a))\n",
    "                           for a in self.args)"
   ]
  },
  {
   "attachments": {},
   "cell_type": "markdown",
   "metadata": {},
   "source": [
    "## 1. Álgebra Relacional <a id=\"0\"></a>\n",
    "\n",
    "El comportamiento implementado en `pd.merge()` es un subconjunto de lo que se conoce como **álgebra relacional**, que es un conjunto formal de reglas para manipular datos relacionales y constituye la base conceptual de las operaciones disponibles en la mayoría de las bases de datos.\n",
    "La fuerza del enfoque del álgebra relacional es que propone varias operaciones primitivas, que se convierten en los componentes básicos de operaciones más complicadas en cualquier conjunto de datos.\n",
    "Con este léxico de operaciones fundamentales implementado de manera eficiente en una base de datos u otro programa, se puede realizar una amplia gama de operaciones compuestas bastante complicadas.\n",
    "\n",
    "Pandas implementa varios de estos bloques de construcción fundamentales en la función `pd.merge()` y el método `join()` que está relacionado con los objetos del tipo `Series` y `Dataframe`. Todo esto permiten vincular de manera eficiente datos de diferentes fuentes.\n",
    "\n"
   ]
  },
  {
   "attachments": {},
   "cell_type": "markdown",
   "metadata": {},
   "source": [
    "## 2. Categorías de Uniones <a id=\"2\"></a>\n",
    "\n",
    "La función `pd.merge()` implementa varios tipos de uniones: las uniones **uno a uno**, **muchos a uno** y **muchos a muchos**.\n",
    "Se accede a los tres tipos de uniones a través de una llamada idéntica a la interfaz `pd.merge()`; el tipo de unión realizada depende de la forma de los datos de entrada.\n",
    "Aquí se mostrará ejemplos simples de los tres tipos de fusiones."
   ]
  },
  {
   "attachments": {},
   "cell_type": "markdown",
   "metadata": {},
   "source": [
    "### Uniones uno a uno\n",
    "\n",
    "La unión uno a uno es el tipo más simple de expresión de combinación, que en muchos aspectos es muy similar a la concatenación por columnas.\n",
    "Como ejemplo concreto, se considerará los siguientes dos *dataframes* que contienen información sobre varios empleados de una empresa."
   ]
  },
  {
   "cell_type": "code",
   "execution_count": null,
   "metadata": {
    "collapsed": false
   },
   "outputs": [],
   "source": [
    "df1 = pd.DataFrame({'empleado': ['Roberto', 'Javier', 'Luisa', 'Susana'],\n",
    "                    'grupo': ['Contador', 'Ingeniero', 'Ingeniero', 'RRHH']})\n",
    "df2 = pd.DataFrame({'empleado': ['Luisa', 'Roberto', 'Javier', 'Susana'],\n",
    "                    'fecha_contratacion': [2004, 2008, 2012, 2014]})\n",
    "desplegar('df1', 'df2')"
   ]
  },
  {
   "attachments": {},
   "cell_type": "markdown",
   "metadata": {},
   "source": [
    "Para combinar esta información en un solo *dataframe*, se puede usar la función `pd.merge()`."
   ]
  },
  {
   "cell_type": "code",
   "execution_count": null,
   "metadata": {
    "collapsed": false
   },
   "outputs": [],
   "source": [
    "df3 = pd.merge(df1, df2)\n",
    "df3"
   ]
  },
  {
   "attachments": {},
   "cell_type": "markdown",
   "metadata": {},
   "source": [
    "La función `pd.merge()` reconoce que cada *dataframe*  tiene una columna de `empleado` y se une automáticamente usando esta columna como clave.\n",
    "El resultado de la fusión es un nuevo *dataframe* que combina la información de las dos entradas.\n",
    "Tener en cuenta que el orden de las entradas en cada columna no se mantiene necesariamente: en este caso, el orden de la columna `empleado` difiere entre `df1` y `df2`, y la función `pd.merge()` realiza el pareado de for correcta.\n",
    "Además, tener en cuenta que la fusión en general descarta el índice, excepto en el caso especial de fusiones por índice a través de los parámetros `left_index` y `right_index`."
   ]
  },
  {
   "attachments": {},
   "cell_type": "markdown",
   "metadata": {},
   "source": [
    "### Uniones de muchos a uno\n",
    "\n",
    "Las uniones de muchos a uno son uniones en las que una de las dos columnas clave contiene entradas duplicadas. \n",
    "Para el caso de muchos a uno, el *dataframe* resultante conservará esas entradas duplicadas según corresponda.\n",
    "Considerar el siguiente ejemplo de una combinación de muchos a uno.\n"
   ]
  },
  {
   "cell_type": "code",
   "execution_count": null,
   "metadata": {
    "collapsed": false
   },
   "outputs": [],
   "source": [
    "df4 = pd.DataFrame({'grupo': ['Contador', 'Ingeniero', 'RRHH'],\n",
    "                    'supervisor': ['Carla', 'Guido', 'Sergio']})\n",
    "desplegar('df3', 'df4', 'pd.merge(df3, df4)')"
   ]
  },
  {
   "attachments": {},
   "cell_type": "markdown",
   "metadata": {},
   "source": [
    "El *dataframe* resultante tiene una columna adicional con la información del `supervisor`, donde la información se repite en una o más ubicaciones según lo requieran las entradas."
   ]
  },
  {
   "attachments": {},
   "cell_type": "markdown",
   "metadata": {},
   "source": [
    "### Uniones de muchos a muchos\n",
    "\n",
    "Las uniones de muchos a muchos son un poco confusas conceptualmente, pero sin embargo están bien definidas.\n",
    "Si la columna clave en la matriz izquierda y derecha contiene duplicados, entonces el resultado es una combinación de muchos a muchos.\n",
    "Esto será quizás más claro con un ejemplo concreto.\n",
    "Considere lo siguiente, se tiene un *dataframe* que muestra una o más habilidades asociadas con un grupo en particular.\n",
    "Al realizar una unión de muchos a muchos, se puede recuperar las habilidades asociadas con cualquier persona individual."
   ]
  },
  {
   "cell_type": "code",
   "execution_count": null,
   "metadata": {
    "collapsed": false
   },
   "outputs": [],
   "source": [
    "df5 = pd.DataFrame({'grupo': ['Contador', 'Contador',\n",
    "                              'Ingeniero', 'Ingeniero', 'RRHH', 'RRHH'],\n",
    "                    'habilidades': ['matematicas', 'planillas', 'codificacion', 'linux',\n",
    "                               'planillas', 'organizacion']})\n",
    "desplegar('df1', 'df5', \"pd.merge(df1, df5)\")"
   ]
  },
  {
   "attachments": {},
   "cell_type": "markdown",
   "metadata": {},
   "source": [
    "Estos tres tipos de uniones se pueden usar con otras herramientas de Pandas para implementar una amplia gama de funciones.\n",
    "Pero en la práctica, los conjuntos de datos rara vez están tan limpios como con el que se está trabajando aquí.\n",
    "A continuación se consideraran algunas de las opciones proporcionadas por `pd.merge()` que permiten ajustar cómo funcionan las operaciones de combinación."
   ]
  },
  {
   "attachments": {},
   "cell_type": "markdown",
   "metadata": {},
   "source": [
    "## 3. Especificación de la clave de combinación <a id=\"4\"></a>\n",
    "\n",
    "Ya se ha visto el comportamiento predeterminado de `pd.merge()`, el cuál busca uno o más nombres de columna coincidentes entre las dos entradas y lo usa como clave.\n",
    "Sin embargo, a menudo los nombres de las columnas no coincidirán tan bien, y `pd.merge()` proporciona una variedad de opciones para manejar esto."
   ]
  },
  {
   "attachments": {},
   "cell_type": "markdown",
   "metadata": {},
   "source": [
    "### La palabra clave ``on``\n",
    "\n",
    "De manera más simple, se puede especificar explícitamente el nombre de la columna clave usando el parámetro `on`, que toma un nombre de columna o una lista de nombres de columna."
   ]
  },
  {
   "cell_type": "code",
   "execution_count": null,
   "metadata": {
    "collapsed": false
   },
   "outputs": [],
   "source": [
    "desplegar('df1', 'df2', \"pd.merge(df1, df2, on='empleado')\")"
   ]
  },
  {
   "attachments": {},
   "cell_type": "markdown",
   "metadata": {},
   "source": [
    "Esta opción solo funciona si tanto el *dataframe* izquierdo como el derecho tienen el nombre de columna especificado."
   ]
  },
  {
   "attachments": {},
   "cell_type": "markdown",
   "metadata": {},
   "source": [
    "### Los parámetros `left_on` y `right_on`\n",
    "\n",
    "En ocasiones, es posible que se desee fusionar dos conjuntos de datos con diferentes nombres de columna; por ejemplo, se puede tener un conjunto de datos en el que el nombre del empleado esté etiquetado como `nombre` en lugar de `empleado`.\n",
    "En este caso, se puede usar los parámetros `left_on` y `right_on` para especificar los dos nombres de columna."
   ]
  },
  {
   "cell_type": "code",
   "execution_count": null,
   "metadata": {
    "collapsed": false
   },
   "outputs": [],
   "source": [
    "df3 = pd.DataFrame({'nombre': ['Roberto', 'Javier', 'Luisa', 'Susana'],\n",
    "                    'sueldo': [70000, 80000, 120000, 90000]})\n",
    "desplegar('df1', 'df3', 'pd.merge(df1, df3, left_on=\"empleado\", right_on=\"nombre\")')"
   ]
  },
  {
   "attachments": {},
   "cell_type": "markdown",
   "metadata": {},
   "source": [
    "El resultado tiene una columna redundante que se puede descartar si se desea, por ejemplo, usando el método `drop()` de los *dataframes*."
   ]
  },
  {
   "cell_type": "code",
   "execution_count": null,
   "metadata": {
    "collapsed": false
   },
   "outputs": [],
   "source": [
    "pd.merge(df1, df3, left_on=\"empleado\", right_on=\"nombre\").drop('nombre', axis=1)"
   ]
  },
  {
   "attachments": {},
   "cell_type": "markdown",
   "metadata": {},
   "source": [
    "### Los parámetros `left_index` y `right_index`\n",
    "\n",
    "Podría suceder que en lugar de combinarse en una columna, se desea realizar una combinación en un índice.\n",
    "Por ejemplo, los datos se podrían verse así."
   ]
  },
  {
   "cell_type": "code",
   "execution_count": null,
   "metadata": {
    "collapsed": false
   },
   "outputs": [],
   "source": [
    "df1a = df1.set_index('empleado')\n",
    "df2a = df2.set_index('empleado')\n",
    "desplegar('df1a', 'df2a')"
   ]
  },
  {
   "attachments": {},
   "cell_type": "markdown",
   "metadata": {},
   "source": [
    "Se puede usar el índice como la clave para combinar especificando los parámetros `left_index` y/o `right_index` en `pd.merge()`."
   ]
  },
  {
   "cell_type": "code",
   "execution_count": null,
   "metadata": {
    "collapsed": false
   },
   "outputs": [],
   "source": [
    "desplegar('df1a', 'df2a', 'pd.merge(df1a, df2a, left_index=True, right_index=True)')"
   ]
  },
  {
   "attachments": {},
   "cell_type": "markdown",
   "metadata": {},
   "source": [
    "Para mayor comodidad, los *dataframes* tienen implementado el método `.join()`, que realiza una combinación que por defecto se une a traves de los índices."
   ]
  },
  {
   "cell_type": "code",
   "execution_count": null,
   "metadata": {
    "collapsed": false
   },
   "outputs": [],
   "source": [
    "desplegar('df1a', 'df2a', 'df1a.join(df2a)')"
   ]
  },
  {
   "attachments": {},
   "cell_type": "markdown",
   "metadata": {},
   "source": [
    "Si desea mezclar índices y columnas, se puede combinar `left_index` con `right_on` o `left_on` con `right_index` para obtener el comportamiento que se desea."
   ]
  },
  {
   "cell_type": "code",
   "execution_count": null,
   "metadata": {
    "collapsed": false
   },
   "outputs": [],
   "source": [
    "desplegar('df1a', 'df3', \"pd.merge(df1a, df3, left_index=True, right_on='nombre')\")"
   ]
  },
  {
   "attachments": {},
   "cell_type": "markdown",
   "metadata": {},
   "source": [
    "Todas estas opciones también funcionan con múltiples índices y/o múltiples columnas; la interfaz para este comportamiento es muy intuitiva.\n",
    "Para obtener más información al respecto, consultar la [sección \"Fusionar, unir y concatenar\"](http://pandas.pydata.org/pandas-docs/stable/merging.html) de la documentación de Pandas."
   ]
  },
  {
   "attachments": {},
   "cell_type": "markdown",
   "metadata": {},
   "source": [
    "## 4. Especificación de aritmética de conjuntos para las uniones <a id=\"6\"></a>"
   ]
  },
  {
   "attachments": {},
   "cell_type": "markdown",
   "metadata": {},
   "source": [
    "En todos los ejemplos anteriores, se ha pasado por alto una consideración importante al realizar una combinación, el cuál es el tipo de aritmética de conjuntos utilizada en la combinación.\n",
    "Esto surge cuando aparece un valor en una columna clave pero no en la otra. Considerar este ejemplo."
   ]
  },
  {
   "cell_type": "code",
   "execution_count": null,
   "metadata": {
    "collapsed": false
   },
   "outputs": [],
   "source": [
    "df6 = pd.DataFrame({'nombre': ['Pedro', 'Pablo', 'Maria'],\n",
    "                    'comida': ['pescado', 'legumbres', 'pan']},\n",
    "                   columns=['nombre', 'comida'])\n",
    "df7 = pd.DataFrame({'nombre': ['Maria', 'Jose'],\n",
    "                    'bebida': ['vino', 'cerveza']},\n",
    "                   columns=['nombre', 'bebida'])\n",
    "desplegar('df6', 'df7', 'pd.merge(df6, df7)')"
   ]
  },
  {
   "attachments": {},
   "cell_type": "markdown",
   "metadata": {},
   "source": [
    "Aquí se han fusionado dos conjuntos de datos que solo tienen una sola entrada de **\"nombre\"** en común: Maria.\n",
    "Por defecto, el resultado contiene la **intersección** de los dos conjuntos de entradas; esto es lo que se conoce como **unión interna**.\n",
    "Se puede especificar esto explícitamente usando el parámetro `how`, que por defecto es `'inner'`."
   ]
  },
  {
   "cell_type": "code",
   "execution_count": null,
   "metadata": {
    "collapsed": false
   },
   "outputs": [],
   "source": [
    "pd.merge(df6, df7, how='inner')"
   ]
  },
  {
   "attachments": {},
   "cell_type": "markdown",
   "metadata": {},
   "source": [
    "Otras opciones para el parámetro `how` son `'outer'`, `'left'` y `'right'`.\n",
    "Una **unión externa** o `'outer'` devuelve una combinación sobre la unión de las columnas de entrada y completa todos los valores faltantes con NA."
   ]
  },
  {
   "cell_type": "code",
   "execution_count": null,
   "metadata": {
    "collapsed": false
   },
   "outputs": [],
   "source": [
    "desplegar('df6', 'df7', \"pd.merge(df6, df7, how='outer')\")"
   ]
  },
  {
   "attachments": {},
   "cell_type": "markdown",
   "metadata": {},
   "source": [
    "La **unión izquierda** o `'left'` y la **unión derecha** o `'right'` devuelven combinaciones sobre las entradas izquierda y derecha, respectivamente.\n",
    "Por ejemplo."
   ]
  },
  {
   "cell_type": "code",
   "execution_count": null,
   "metadata": {
    "collapsed": false
   },
   "outputs": [],
   "source": [
    "desplegar('df6', 'df7', \"pd.merge(df6, df7, how='left')\")"
   ]
  },
  {
   "attachments": {},
   "cell_type": "markdown",
   "metadata": {},
   "source": [
    "Las filas de salida ahora corresponden a las entradas en la entrada izquierda. \n",
    "Usando `how='right'` funciona de manera similar pero conservando las entradas de la entrada derecha."
   ]
  },
  {
   "cell_type": "code",
   "execution_count": null,
   "metadata": {},
   "outputs": [],
   "source": [
    "desplegar('df6', 'df7', \"pd.merge(df6, df7, how='right')\")"
   ]
  },
  {
   "attachments": {},
   "cell_type": "markdown",
   "metadata": {},
   "source": [
    "Todas estas opciones se pueden aplicar directamente a cualquiera de los tipos de combinación anteriores."
   ]
  },
  {
   "attachments": {},
   "cell_type": "markdown",
   "metadata": {},
   "source": [
    "## 5. Nombres de columnas superpuestos: el parámetro `suffixes` <a id=\"8\"></a>\n",
    "\n",
    "Finalmente, se puede terminar en un caso en el que los dos *dataframes* de entrada tengan nombres de columnas en conflicto.\n",
    "Considerar el siguiente ejemplo."
   ]
  },
  {
   "cell_type": "code",
   "execution_count": null,
   "metadata": {
    "collapsed": false
   },
   "outputs": [],
   "source": [
    "df8 = pd.DataFrame({'nombre': ['Roberto', 'Javier', 'Luisa', 'Susana'],\n",
    "                    'ranking': [1, 2, 3, 4]})\n",
    "df9 = pd.DataFrame({'nombre': ['Roberto', 'Javier', 'Luisa', 'Susana'],\n",
    "                    'ranking': [3, 1, 4, 2]})\n",
    "desplegar('df8', 'df9', 'pd.merge(df8, df9, on=\"nombre\")')"
   ]
  },
  {
   "attachments": {},
   "cell_type": "markdown",
   "metadata": {},
   "source": [
    "Debido a que la salida tendría dos nombres de columna en conflicto, la función de combinación agrega automáticamente un sufijo `_x` o `_y` para que las columnas de salida sean únicas.\n",
    "Si estos valores predeterminados no son apropiados, es posible especificar un sufijo personalizado usando el parámetro `suffixes`."
   ]
  },
  {
   "cell_type": "code",
   "execution_count": null,
   "metadata": {
    "collapsed": false
   },
   "outputs": [],
   "source": [
    "desplegar('df8', 'df9', 'pd.merge(df8, df9, on=\"nombre\", suffixes=[\"_L\", \"_R\"])')"
   ]
  },
  {
   "attachments": {},
   "cell_type": "markdown",
   "metadata": {},
   "source": [
    "Estos sufijos funcionan en cualquiera de los posibles patrones de combinación y también funcionan si hay varias columnas superpuestas.\n",
    "\n",
    "Consulte también la [documentación \"Fusionar, unir y concatenar\" de Pandas](http://pandas.pydata.org/pandas-docs/stable/merging.html) para obtener más información sobre estos temas."
   ]
  }
 ],
 "metadata": {
  "anaconda-cloud": {},
  "kernelspec": {
   "display_name": "Python 3.10.6 64-bit",
   "language": "python",
   "name": "python3"
  },
  "language_info": {
   "codemirror_mode": {
    "name": "ipython",
    "version": 3
   },
   "file_extension": ".py",
   "mimetype": "text/x-python",
   "name": "python",
   "nbconvert_exporter": "python",
   "pygments_lexer": "ipython3",
   "version": "3.10.6 (main, Nov 14 2022, 16:10:14) [GCC 11.3.0]"
  },
  "vscode": {
   "interpreter": {
    "hash": "e7370f93d1d0cde622a1f8e1c04877d8463912d04d973331ad4851f04de6915a"
   }
  }
 },
 "nbformat": 4,
 "nbformat_minor": 0
}
